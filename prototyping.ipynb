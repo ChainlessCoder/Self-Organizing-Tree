{
 "cells": [
  {
   "cell_type": "code",
   "execution_count": 57,
   "metadata": {},
   "outputs": [
    {
     "ename": "RuntimeError",
     "evalue": "maximum size for tensor at dimension 0 is 1 but size is 3",
     "output_type": "error",
     "traceback": [
      "\u001b[0;31m---------------------------------------------------------------------------\u001b[0m",
      "\u001b[0;31mRuntimeError\u001b[0m                              Traceback (most recent call last)",
      "\u001b[0;32m<ipython-input-57-6665678c4e81>\u001b[0m in \u001b[0;36m<module>\u001b[0;34m\u001b[0m\n\u001b[1;32m     70\u001b[0m                 \u001b[0mpadding\u001b[0m \u001b[0;34m=\u001b[0m \u001b[0;36m0\u001b[0m\u001b[0;34m\u001b[0m\u001b[0;34m\u001b[0m\u001b[0m\n\u001b[1;32m     71\u001b[0m                )\n\u001b[0;32m---> 72\u001b[0;31m \u001b[0mtree\u001b[0m\u001b[0;34m.\u001b[0m\u001b[0mimg2patches\u001b[0m\u001b[0;34m(\u001b[0m\u001b[0mimg\u001b[0m\u001b[0;34m)\u001b[0m\u001b[0;34m\u001b[0m\u001b[0;34m\u001b[0m\u001b[0m\n\u001b[0m\u001b[1;32m     73\u001b[0m \u001b[0;31m#tree.propagate_through_tree()\u001b[0m\u001b[0;34m\u001b[0m\u001b[0;34m\u001b[0m\u001b[0;34m\u001b[0m\u001b[0m\n",
      "\u001b[0;32m<ipython-input-57-6665678c4e81>\u001b[0m in \u001b[0;36mimg2patches\u001b[0;34m(self, x)\u001b[0m\n\u001b[1;32m     33\u001b[0m     \u001b[0;32mdef\u001b[0m \u001b[0mimg2patches\u001b[0m\u001b[0;34m(\u001b[0m\u001b[0mself\u001b[0m\u001b[0;34m,\u001b[0m \u001b[0mx\u001b[0m\u001b[0;34m)\u001b[0m\u001b[0;34m:\u001b[0m\u001b[0;34m\u001b[0m\u001b[0;34m\u001b[0m\u001b[0m\n\u001b[1;32m     34\u001b[0m         \u001b[0mpadded\u001b[0m \u001b[0;34m=\u001b[0m \u001b[0mpad\u001b[0m\u001b[0;34m(\u001b[0m\u001b[0mx\u001b[0m\u001b[0;34m,\u001b[0m \u001b[0;34m[\u001b[0m\u001b[0mself\u001b[0m\u001b[0;34m.\u001b[0m\u001b[0mpadding\u001b[0m\u001b[0;34m]\u001b[0m \u001b[0;34m*\u001b[0m \u001b[0;36m4\u001b[0m\u001b[0;34m,\u001b[0m \u001b[0;34m\"constant\"\u001b[0m\u001b[0;34m,\u001b[0m \u001b[0;36m0\u001b[0m\u001b[0;34m)\u001b[0m\u001b[0;34m\u001b[0m\u001b[0;34m\u001b[0m\u001b[0m\n\u001b[0;32m---> 35\u001b[0;31m         \u001b[0mp\u001b[0m \u001b[0;34m=\u001b[0m \u001b[0mpadded\u001b[0m\u001b[0;34m.\u001b[0m\u001b[0munfold\u001b[0m\u001b[0;34m(\u001b[0m\u001b[0;36m0\u001b[0m\u001b[0;34m,\u001b[0m \u001b[0mself\u001b[0m\u001b[0;34m.\u001b[0m\u001b[0mkernel_size\u001b[0m\u001b[0;34m,\u001b[0m \u001b[0mself\u001b[0m\u001b[0;34m.\u001b[0m\u001b[0mstride\u001b[0m\u001b[0;34m)\u001b[0m\u001b[0;34m.\u001b[0m\u001b[0munfold\u001b[0m\u001b[0;34m(\u001b[0m\u001b[0;36m1\u001b[0m\u001b[0;34m,\u001b[0m \u001b[0mself\u001b[0m\u001b[0;34m.\u001b[0m\u001b[0mkernel_size\u001b[0m\u001b[0;34m,\u001b[0m \u001b[0mself\u001b[0m\u001b[0;34m.\u001b[0m\u001b[0mstride\u001b[0m\u001b[0;34m)\u001b[0m\u001b[0;34m\u001b[0m\u001b[0;34m\u001b[0m\u001b[0m\n\u001b[0m\u001b[1;32m     36\u001b[0m         \u001b[0mprint\u001b[0m\u001b[0;34m(\u001b[0m\u001b[0mp\u001b[0m\u001b[0;34m.\u001b[0m\u001b[0mshape\u001b[0m\u001b[0;34m)\u001b[0m\u001b[0;34m\u001b[0m\u001b[0;34m\u001b[0m\u001b[0m\n\u001b[1;32m     37\u001b[0m         \u001b[0mout\u001b[0m \u001b[0;34m=\u001b[0m \u001b[0mp\u001b[0m\u001b[0;34m.\u001b[0m\u001b[0mreshape\u001b[0m\u001b[0;34m(\u001b[0m\u001b[0mp\u001b[0m\u001b[0;34m.\u001b[0m\u001b[0mshape\u001b[0m\u001b[0;34m[\u001b[0m\u001b[0;36m0\u001b[0m\u001b[0;34m]\u001b[0m \u001b[0;34m*\u001b[0m \u001b[0mp\u001b[0m\u001b[0;34m.\u001b[0m\u001b[0mshape\u001b[0m\u001b[0;34m[\u001b[0m\u001b[0;36m1\u001b[0m\u001b[0;34m]\u001b[0m\u001b[0;34m,\u001b[0m \u001b[0mp\u001b[0m\u001b[0;34m.\u001b[0m\u001b[0mshape\u001b[0m\u001b[0;34m[\u001b[0m\u001b[0;36m2\u001b[0m\u001b[0;34m]\u001b[0m \u001b[0;34m*\u001b[0m \u001b[0mp\u001b[0m\u001b[0;34m.\u001b[0m\u001b[0mshape\u001b[0m\u001b[0;34m[\u001b[0m\u001b[0;36m3\u001b[0m\u001b[0;34m]\u001b[0m\u001b[0;34m)\u001b[0m\u001b[0;34m\u001b[0m\u001b[0;34m\u001b[0m\u001b[0m\n",
      "\u001b[0;31mRuntimeError\u001b[0m: maximum size for tensor at dimension 0 is 1 but size is 3"
     ]
    }
   ],
   "source": [
    "from torch import nn, Tensor, tensor, arange, zeros\n",
    "from torch.nn.functional import pad\n",
    "from torch_geometric.data import Data\n",
    "from math import log2, ceil\n",
    "\n",
    "\n",
    "class SOTLayer(nn.Module):\n",
    "    \n",
    "    def __init__(self, number_of_leaves: int, kernel_size: int, stride: int = 2, padding: int = 0):\n",
    "        super(SOTLayer, self).__init__()\n",
    "        self.kernel_size = kernel_size\n",
    "        self.stride = stride\n",
    "        self.padding = padding\n",
    "        self.leaf_num = 2**ceil(log2(number_of_leaves))\n",
    "        self.nodes = nn.Parameter(data= Tensor((self.leaf_num*2)-1, self.kernel_size**2), requires_grad=False)\n",
    "        self.nodes.data.uniform_(0, 1)\n",
    "        self.node_indices = arange(self.nodes.shape[0])\n",
    "\n",
    "        #self.tree_graph = Data(x= self.nodes, edge_index = self.get_tree_edges())\n",
    "    \n",
    "    def get_tree_edges(self):\n",
    "        start, num = 0, 2\n",
    "        layers, prev_layer = [], [0]\n",
    "        for n in range(int(log2(self.leaf_num)+1)):\n",
    "            nodes_per_layer = num ** n\n",
    "            layer = list(range(start, + start + nodes_per_layer))\n",
    "            dupl_l = [val for val in prev_layer for _ in (0, 1)]\n",
    "            layers += (list(zip(dupl_l, layer)))\n",
    "            start += nodes_per_layer \n",
    "            prev_layer = layer\n",
    "        return tensor(layers[1:]).T\n",
    "    \n",
    "    def img2patches(self, x):\n",
    "        padded = pad(x, [self.padding] * 4, \"constant\", 0)\n",
    "        p = padded.unfold(0, self.kernel_size, self.stride).unfold(1, self.kernel_size, self.stride)\n",
    "        print(p.shape)\n",
    "        out = p.reshape(p.shape[0] * p.shape[1], p.shape[2] * p.shape[3])\n",
    "        print(out)\n",
    "        output_dim_x, output_dim_y = p.shape[0], p.shape[1]\n",
    "        return out, output_dim_x, output_dim_y\n",
    "    \n",
    "    def pnorm(self, x1, x2, p=2):\n",
    "        return torch.pow(torch.pow(x1 - x2.unsqueeze(dim=1), p).sum(2), p)\n",
    "    \n",
    "    def propagate_through_tree(self, x):\n",
    "        start, num = 1, 2\n",
    "        layers = []\n",
    "        layer_state = torch.zeros(1, dtype=int)\n",
    "        #prev_layer = [0]\n",
    "        update_amount_indices = torch.zeros(2, dtype=int)\n",
    "        for n in range(1, int(log2(self.leaf_num)+1)):\n",
    "            nodes_per_layer = num ** n\n",
    "            layer = arange(start, + start + nodes_per_layer)\n",
    "            layer_state = layer_state.repeat(2,1).T.flatten()\n",
    "            max_val = layer_state.max()\n",
    "            competing_nodes = self.nodes[layer[layer_state == max_val],]\n",
    "            print(layer_state)\n",
    "            print(competing_nodes.shape)\n",
    "            #dupl_l = [val for val in prev_layer for _ in (0, 1)]\n",
    "            print(layer)\n",
    "            #layers += (list(zip(dupl_l, layer)))\n",
    "            start += nodes_per_layer \n",
    "            #prev_layer = layer\n",
    "        return #tensor(layers[1:]).T\n",
    "    \n",
    "img = rand(1,3,5,5)       \n",
    "tree = SOTLayer(number_of_leaves = 7, \n",
    "                kernel_size = 3, \n",
    "                stride = 1, \n",
    "                padding = 0\n",
    "               )\n",
    "tree.img2patches(img)\n",
    "#tree.propagate_through_tree()"
   ]
  },
  {
   "cell_type": "code",
   "execution_count": 46,
   "metadata": {},
   "outputs": [
    {
     "ename": "TypeError",
     "evalue": "ceil(): argument 'input' (position 1) must be Tensor, not float",
     "output_type": "error",
     "traceback": [
      "\u001b[0;31m---------------------------------------------------------------------------\u001b[0m",
      "\u001b[0;31mTypeError\u001b[0m                                 Traceback (most recent call last)",
      "\u001b[0;32m<ipython-input-46-4c7a48aef157>\u001b[0m in \u001b[0;36m<module>\u001b[0;34m\u001b[0m\n\u001b[1;32m      2\u001b[0m \u001b[0;32mimport\u001b[0m \u001b[0mtorch\u001b[0m\u001b[0;34m\u001b[0m\u001b[0;34m\u001b[0m\u001b[0m\n\u001b[1;32m      3\u001b[0m \u001b[0ma\u001b[0m \u001b[0;34m=\u001b[0m \u001b[0mrand\u001b[0m\u001b[0;34m(\u001b[0m\u001b[0;36m10\u001b[0m\u001b[0;34m,\u001b[0m\u001b[0;36m10\u001b[0m\u001b[0;34m)\u001b[0m\u001b[0;34m\u001b[0m\u001b[0;34m\u001b[0m\u001b[0m\n\u001b[0;32m----> 4\u001b[0;31m \u001b[0mtorch\u001b[0m\u001b[0;34m.\u001b[0m\u001b[0mceil\u001b[0m\u001b[0;34m(\u001b[0m\u001b[0;36m6.4\u001b[0m\u001b[0;34m)\u001b[0m\u001b[0;34m\u001b[0m\u001b[0;34m\u001b[0m\u001b[0m\n\u001b[0m",
      "\u001b[0;31mTypeError\u001b[0m: ceil(): argument 'input' (position 1) must be Tensor, not float"
     ]
    }
   ],
   "source": [
    "from torch import rand\n",
    "import torch\n",
    "a = rand(10,10)    \n",
    "torch.ceil(6.4)"
   ]
  },
  {
   "cell_type": "code",
   "execution_count": 25,
   "metadata": {},
   "outputs": [
    {
     "data": {
      "text/plain": [
       "tensor([1, 1, 2, 2, 3, 3, 4, 4])"
      ]
     },
     "execution_count": 25,
     "metadata": {},
     "output_type": "execute_result"
    }
   ],
   "source": [
    "b = tensor([1,2,3,4])\n",
    "b.repeat(2,1).T.flatten()"
   ]
  },
  {
   "cell_type": "code",
   "execution_count": 28,
   "metadata": {},
   "outputs": [
    {
     "data": {
      "text/plain": [
       "tensor([[1, 2, 3],\n",
       "        [7, 8, 9]])"
      ]
     },
     "execution_count": 28,
     "metadata": {},
     "output_type": "execute_result"
    }
   ],
   "source": [
    "tensor([[1,2,3], [4,5,6], [7,8,9]])[[0,2],]"
   ]
  },
  {
   "cell_type": "code",
   "execution_count": 15,
   "metadata": {},
   "outputs": [
    {
     "ename": "AttributeError",
     "evalue": "'Data' object has no attribute 'k_hop_subgraph'",
     "output_type": "error",
     "traceback": [
      "\u001b[0;31m---------------------------------------------------------------------------\u001b[0m",
      "\u001b[0;31mAttributeError\u001b[0m                            Traceback (most recent call last)",
      "\u001b[0;32m<ipython-input-15-cd88183f7959>\u001b[0m in \u001b[0;36m<module>\u001b[0;34m\u001b[0m\n\u001b[1;32m      1\u001b[0m \u001b[0;32mfrom\u001b[0m \u001b[0mtorch_geometric\u001b[0m\u001b[0;34m.\u001b[0m\u001b[0mutils\u001b[0m \u001b[0;32mimport\u001b[0m \u001b[0mk_hop_subgraph\u001b[0m\u001b[0;34m\u001b[0m\u001b[0;34m\u001b[0m\u001b[0m\n\u001b[1;32m      2\u001b[0m \u001b[0;34m\u001b[0m\u001b[0m\n\u001b[0;32m----> 3\u001b[0;31m \u001b[0mtree\u001b[0m\u001b[0;34m.\u001b[0m\u001b[0mtree_graph\u001b[0m\u001b[0;34m.\u001b[0m\u001b[0mk_hop_subgraph\u001b[0m\u001b[0;34m(\u001b[0m\u001b[0mtree\u001b[0m\u001b[0;34m.\u001b[0m\u001b[0mtree_graph\u001b[0m\u001b[0;34m,\u001b[0m\u001b[0;36m2\u001b[0m\u001b[0;34m,\u001b[0m\u001b[0;36m3\u001b[0m\u001b[0;34m)\u001b[0m\u001b[0;34m\u001b[0m\u001b[0;34m\u001b[0m\u001b[0m\n\u001b[0m",
      "\u001b[0;31mAttributeError\u001b[0m: 'Data' object has no attribute 'k_hop_subgraph'"
     ]
    }
   ],
   "source": [
    "from torch_geometric.utils import k_hop_subgraph\n",
    "\n",
    "k_hop_subgraph(tree.tree_graph,2,3)"
   ]
  },
  {
   "cell_type": "code",
   "execution_count": 14,
   "metadata": {},
   "outputs": [],
   "source": [
    "import torch\n",
    "from torch import nn\n",
    "from torch import Tensor\n",
    "from torch.nn.functional import pad\n",
    "from math import log2, ceil\n",
    "\n",
    "\n",
    "#torch.random.manual_seed(0)  # Set a known random seed for reproducibility\n",
    "\n",
    "\n",
    "class NewSOTT(nn.Module):\n",
    "    '''\n",
    "    \n",
    "    '''\n",
    "\n",
    "    def __init__(self, kernel_size: int, leaf_num: int, \n",
    "                 niter: int, stride: int = 2, padding: int = 0, \n",
    "                 alpha: float = None, sigma: float = None, device = torch.device(\"cpu\")\n",
    "                 ):\n",
    "        super(NewSOTT, self).__init__()\n",
    "        self.kernel_size = kernel_size\n",
    "        self.leaf_num = leaf_num\n",
    "        self.stride = stride\n",
    "        self.padding = padding\n",
    "        self.niter = niter\n",
    "        #self.locations = self._neuron_locations()\n",
    "        self.leaf_num = 2**ceil(log2(leaf_num))\n",
    "        self.nodes = torch.nn.Parameter(data=Tensor((leafNum*2)-2, kernel_size**2), requires_grad=False)\n",
    "        self.nodes.data.uniform_(0, 1)\n",
    "        if alpha is None:\n",
    "            self.alpha = 0.3\n",
    "        else:\n",
    "            self.alpha = float(alpha)\n",
    "        if sigma is None:\n",
    "            self.sigma = leaf_num / 2.0\n",
    "        else:\n",
    "            self.sigma = float(sigma)\n",
    "        #self.w = torch.randint(low=0, high=256, size = (grid_size[0] * grid_size[1], kernel_size * kernel_size), \n",
    "        #                       dtype=torch.uint8, device=device, requires_grad=False)\n",
    "        self.it = 1\n",
    "        self.device = device\n",
    "\n",
    "    def _2diImg2col(self, x):\n",
    "        padded = pad(x, [self.padding] * 4, \"constant\", 0)\n",
    "        p = padded.unfold(0, self.kernel_size, self.stride).unfold(1, self.kernel_size, self.stride)\n",
    "        out = p.reshape(p.shape[0] * p.shape[1], p.shape[2] * p.shape[3])\n",
    "        output_dim_x, output_dim_y = p.shape[0], p.shape[1]\n",
    "        return out, output_dim_x, output_dim_y\n",
    "\n",
    "    def _neuron_locations(self):\n",
    "        a, b = torch.meshgrid(torch.arange(self.grid_size[0]), torch.arange(self.grid_size[1]))\n",
    "        return torch.transpose(torch.LongTensor(torch.stack([a.flatten(), b.flatten()])), 0, 1)\n",
    "\n",
    "    def _pnorm(self, x1, x2, p=2):\n",
    "        return torch.pow(torch.pow(x1 - x2.unsqueeze(dim=1), p).sum(2), p)\n",
    "\n",
    "    def get_bmu_indices(self, x):\n",
    "        dist = self._pnorm(self.w, x)\n",
    "        _, bmu_index = torch.min(dist, 1)\n",
    "        return bmu_index\n",
    "\n",
    "    def adjust_synapses(self, x):\n",
    "        x, output_dim_x, output_dim_y = self._2diImg2col(x)\n",
    "        dist = self._pnorm(self.w, x)\n",
    "        _, bmu_index = torch.min(dist, 1)\n",
    "        bmu_loc = self.locations[bmu_index, :]\n",
    "\n",
    "        learning_rate_op = 1.0 - self.it / self.niter\n",
    "        alpha_op = self.alpha * learning_rate_op\n",
    "        sigma_op = self.sigma * learning_rate_op\n",
    "\n",
    "        bmu_distance_squares = torch.sum(torch.pow(self.locations.expand(bmu_loc.shape[0], \n",
    "                                                                         self.locations.shape[0],\n",
    "                                                                         self.locations.shape[1]) - bmu_loc.unsqueeze(dim=1), 2), 2)\n",
    "        neighbourhood_func = torch.exp(torch.neg(torch.div(bmu_distance_squares, sigma_op ** 2)))\n",
    "        learning_rate = alpha_op * neighbourhood_func\n",
    "        self.w.data += (learning_rate.unsqueeze(2) * (x.unsqueeze(dim=1) - self.w.unsqueeze(dim=0))).mean(dim=0)\n",
    "        self.it += 1\n",
    "        return bmu_loc.reshape(2, output_dim_x, output_dim_y)\n",
    "\n",
    "    def set_mode(self, m):\n",
    "        self.mode = m\n",
    "\n",
    "    def forward(self, x) -> Tensor:\n",
    "        x.to(self.device)\n",
    "        output = self.adjust_synapses(x)\n",
    "        return output\n"
   ]
  },
  {
   "cell_type": "code",
   "execution_count": 15,
   "metadata": {},
   "outputs": [
    {
     "ename": "NameError",
     "evalue": "name 'grid_size' is not defined",
     "output_type": "error",
     "traceback": [
      "\u001b[0;31m---------------------------------------------------------------------------\u001b[0m",
      "\u001b[0;31mNameError\u001b[0m                                 Traceback (most recent call last)",
      "\u001b[0;32m<ipython-input-15-4d6d4a6d61fb>\u001b[0m in \u001b[0;36m<module>\u001b[0;34m\u001b[0m\n\u001b[1;32m      1\u001b[0m \u001b[0mdevice\u001b[0m \u001b[0;34m=\u001b[0m \u001b[0mtorch\u001b[0m\u001b[0;34m.\u001b[0m\u001b[0mdevice\u001b[0m\u001b[0;34m(\u001b[0m\u001b[0;34m\"cpu\"\u001b[0m\u001b[0;34m)\u001b[0m\u001b[0;34m\u001b[0m\u001b[0;34m\u001b[0m\u001b[0m\n\u001b[1;32m      2\u001b[0m \u001b[0mepochs\u001b[0m \u001b[0;34m=\u001b[0m \u001b[0;36m10\u001b[0m\u001b[0;34m\u001b[0m\u001b[0;34m\u001b[0m\u001b[0m\n\u001b[0;32m----> 3\u001b[0;31m NewSOTT(kernel_size = 3, \n\u001b[0m\u001b[1;32m      4\u001b[0m        \u001b[0mleaf_num\u001b[0m\u001b[0;34m=\u001b[0m \u001b[0;36m100\u001b[0m\u001b[0;34m,\u001b[0m\u001b[0;34m\u001b[0m\u001b[0;34m\u001b[0m\u001b[0m\n\u001b[1;32m      5\u001b[0m        \u001b[0mniter\u001b[0m \u001b[0;34m=\u001b[0m \u001b[0mepochs\u001b[0m\u001b[0;34m,\u001b[0m\u001b[0;34m\u001b[0m\u001b[0;34m\u001b[0m\u001b[0m\n",
      "\u001b[0;32m<ipython-input-14-fdded409a211>\u001b[0m in \u001b[0;36m__init__\u001b[0;34m(self, kernel_size, leaf_num, niter, stride, padding, alpha, sigma, device)\u001b[0m\n\u001b[1;32m     29\u001b[0m \u001b[0;34m\u001b[0m\u001b[0m\n\u001b[1;32m     30\u001b[0m         \u001b[0;32mif\u001b[0m \u001b[0msigma\u001b[0m \u001b[0;32mis\u001b[0m \u001b[0;32mNone\u001b[0m\u001b[0;34m:\u001b[0m\u001b[0;34m\u001b[0m\u001b[0;34m\u001b[0m\u001b[0m\n\u001b[0;32m---> 31\u001b[0;31m             \u001b[0mself\u001b[0m\u001b[0;34m.\u001b[0m\u001b[0msigma\u001b[0m \u001b[0;34m=\u001b[0m \u001b[0mmax\u001b[0m\u001b[0;34m(\u001b[0m\u001b[0mgrid_size\u001b[0m\u001b[0;34m[\u001b[0m\u001b[0;36m0\u001b[0m\u001b[0;34m]\u001b[0m\u001b[0;34m,\u001b[0m \u001b[0mgrid_size\u001b[0m\u001b[0;34m[\u001b[0m\u001b[0;36m1\u001b[0m\u001b[0;34m]\u001b[0m\u001b[0;34m)\u001b[0m \u001b[0;34m/\u001b[0m \u001b[0;36m2.0\u001b[0m\u001b[0;34m\u001b[0m\u001b[0;34m\u001b[0m\u001b[0m\n\u001b[0m\u001b[1;32m     32\u001b[0m         \u001b[0;32melse\u001b[0m\u001b[0;34m:\u001b[0m\u001b[0;34m\u001b[0m\u001b[0;34m\u001b[0m\u001b[0m\n\u001b[1;32m     33\u001b[0m             \u001b[0mself\u001b[0m\u001b[0;34m.\u001b[0m\u001b[0msigma\u001b[0m \u001b[0;34m=\u001b[0m \u001b[0mfloat\u001b[0m\u001b[0;34m(\u001b[0m\u001b[0msigma\u001b[0m\u001b[0;34m)\u001b[0m\u001b[0;34m\u001b[0m\u001b[0;34m\u001b[0m\u001b[0m\n",
      "\u001b[0;31mNameError\u001b[0m: name 'grid_size' is not defined"
     ]
    }
   ],
   "source": [
    "device = torch.device(\"cpu\")\n",
    "epochs = 10\n",
    "NewSOTT(kernel_size = 3, \n",
    "       leaf_num= 100, \n",
    "       niter = epochs,\n",
    "       stride = 1,\n",
    "       device = device\n",
    "                 )"
   ]
  }
 ],
 "metadata": {
  "kernelspec": {
   "display_name": "Python 3",
   "language": "python",
   "name": "python3"
  },
  "language_info": {
   "codemirror_mode": {
    "name": "ipython",
    "version": 3
   },
   "file_extension": ".py",
   "mimetype": "text/x-python",
   "name": "python",
   "nbconvert_exporter": "python",
   "pygments_lexer": "ipython3",
   "version": "3.8.5"
  }
 },
 "nbformat": 4,
 "nbformat_minor": 4
}
